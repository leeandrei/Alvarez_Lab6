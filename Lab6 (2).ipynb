{
 "cells": [
  {
   "cell_type": "markdown",
   "metadata": {},
   "source": [
    "<h1><b>Linear Algebra for Cpe<b>"
   ]
  },
  {
   "cell_type": "markdown",
   "metadata": {},
   "source": [
    "<h4><b>Laboratory 6 : Matrices<b>\n",
    "    "
   ]
  },
  {
   "cell_type": "markdown",
   "metadata": {},
   "source": [
    "<h5><i>Coded and Submitted by:<i>\n",
    "<h5><i>Alvarez, Lee Andrei D.<i>\n",
    "<h5><i>58011<i>"
   ]
  },
  {
   "cell_type": "code",
   "execution_count": null,
   "metadata": {},
   "outputs": [],
   "source": [
    "import numpy as np\n",
    "import matplotlib.pyplot as plt\n",
    "import scipy.linalg as la"
   ]
  },
  {
   "cell_type": "markdown",
   "metadata": {},
   "source": [
    "<h5>Task 1<i>"
   ]
  },
  {
   "cell_type": "code",
   "execution_count": 189,
   "metadata": {},
   "outputs": [],
   "source": [
    "## Function Area \n",
    "def mat_desc(matrix): \n",
    "  square = True if matrix.shape[0] == matrix.shape[1] else False \n",
    "  empty = matrix.size == 0\n",
    "  zero_mat_sqr = np.zeros((4,4))\n",
    "  ones_mat_sqr = np.ones((4,4))\n",
    "  identity = np.eye(4)\n",
    "  print(f'Matrix:\\n{matrix}','\\n'f'Shape:\\t{matrix.shape}','\\n',f'Size:\\t{matrix.size}','\\n',f'Rank:\\t{matrix.ndim}',\n",
    "        '\\n',f'Square: {square}','\\n',f'Empty: {empty}','\\n',f'Identity Matrix:\\n {identity}','\\n',\n",
    "        f'Ones Matrix:\\n {ones_mat_sqr}','\\n',f'Zeros Matrix:\\n {zero_mat_sqr}')"
   ]
  },
  {
   "cell_type": "code",
   "execution_count": 190,
   "metadata": {},
   "outputs": [],
   "source": [
    "## Matrix Declarations\n",
    "A = np.array([[3, -2, 1, 4],[5, -4, 3, 2],[4, 2, -1, -4],[6, 2, -4, -3]])\n",
    "B = np.array([[6, 3, -1, 2],[2, 4, -3, 2],[3, -2, 1, -4],[7, 2, -6, 3]])\n",
    "C = np.array([[1, -3, 6, 8],[6, -5, 8, 3],[1, 7, -3, -9],[10, 3, -4, -7]])\n",
    "D = np.array([[2, -4, 6, 8],[10, -12, 14, 16],[3, 6, -9, -12],[4, 8, -12, -16]])\n",
    "E = np.array([[1, -3, 5, 7],[9, -12, 15, 17],[5, 10, -15, -20],[6, 12, -18, -24]])"
   ]
  },
  {
   "cell_type": "code",
   "execution_count": 191,
   "metadata": {},
   "outputs": [
    {
     "name": "stdout",
     "output_type": "stream",
     "text": [
      "Matrix:\n",
      "[[ 3 -2  1  4]\n",
      " [ 5 -4  3  2]\n",
      " [ 4  2 -1 -4]\n",
      " [ 6  2 -4 -3]] \n",
      "Shape:\t(4, 4) \n",
      " Size:\t16 \n",
      " Rank:\t2 \n",
      " Square: True \n",
      " Empty: False \n",
      " Identity Matrix:\n",
      " [[1. 0. 0. 0.]\n",
      " [0. 1. 0. 0.]\n",
      " [0. 0. 1. 0.]\n",
      " [0. 0. 0. 1.]] \n",
      " Ones Matrix:\n",
      " [[1. 1. 1. 1.]\n",
      " [1. 1. 1. 1.]\n",
      " [1. 1. 1. 1.]\n",
      " [1. 1. 1. 1.]] \n",
      " Zeros Matrix:\n",
      " [[0. 0. 0. 0.]\n",
      " [0. 0. 0. 0.]\n",
      " [0. 0. 0. 0.]\n",
      " [0. 0. 0. 0.]]\n",
      "\t\n",
      "Matrix:\n",
      "[[ 6  3 -1  2]\n",
      " [ 2  4 -3  2]\n",
      " [ 3 -2  1 -4]\n",
      " [ 7  2 -6  3]] \n",
      "Shape:\t(4, 4) \n",
      " Size:\t16 \n",
      " Rank:\t2 \n",
      " Square: True \n",
      " Empty: False \n",
      " Identity Matrix:\n",
      " [[1. 0. 0. 0.]\n",
      " [0. 1. 0. 0.]\n",
      " [0. 0. 1. 0.]\n",
      " [0. 0. 0. 1.]] \n",
      " Ones Matrix:\n",
      " [[1. 1. 1. 1.]\n",
      " [1. 1. 1. 1.]\n",
      " [1. 1. 1. 1.]\n",
      " [1. 1. 1. 1.]] \n",
      " Zeros Matrix:\n",
      " [[0. 0. 0. 0.]\n",
      " [0. 0. 0. 0.]\n",
      " [0. 0. 0. 0.]\n",
      " [0. 0. 0. 0.]]\n",
      "\t\n",
      "Matrix:\n",
      "[[ 1 -3  6  8]\n",
      " [ 6 -5  8  3]\n",
      " [ 1  7 -3 -9]\n",
      " [10  3 -4 -7]] \n",
      "Shape:\t(4, 4) \n",
      " Size:\t16 \n",
      " Rank:\t2 \n",
      " Square: True \n",
      " Empty: False \n",
      " Identity Matrix:\n",
      " [[1. 0. 0. 0.]\n",
      " [0. 1. 0. 0.]\n",
      " [0. 0. 1. 0.]\n",
      " [0. 0. 0. 1.]] \n",
      " Ones Matrix:\n",
      " [[1. 1. 1. 1.]\n",
      " [1. 1. 1. 1.]\n",
      " [1. 1. 1. 1.]\n",
      " [1. 1. 1. 1.]] \n",
      " Zeros Matrix:\n",
      " [[0. 0. 0. 0.]\n",
      " [0. 0. 0. 0.]\n",
      " [0. 0. 0. 0.]\n",
      " [0. 0. 0. 0.]]\n",
      "\t\n",
      "Matrix:\n",
      "[[  2  -4   6   8]\n",
      " [ 10 -12  14  16]\n",
      " [  3   6  -9 -12]\n",
      " [  4   8 -12 -16]] \n",
      "Shape:\t(4, 4) \n",
      " Size:\t16 \n",
      " Rank:\t2 \n",
      " Square: True \n",
      " Empty: False \n",
      " Identity Matrix:\n",
      " [[1. 0. 0. 0.]\n",
      " [0. 1. 0. 0.]\n",
      " [0. 0. 1. 0.]\n",
      " [0. 0. 0. 1.]] \n",
      " Ones Matrix:\n",
      " [[1. 1. 1. 1.]\n",
      " [1. 1. 1. 1.]\n",
      " [1. 1. 1. 1.]\n",
      " [1. 1. 1. 1.]] \n",
      " Zeros Matrix:\n",
      " [[0. 0. 0. 0.]\n",
      " [0. 0. 0. 0.]\n",
      " [0. 0. 0. 0.]\n",
      " [0. 0. 0. 0.]]\n",
      "\t\n",
      "Matrix:\n",
      "[[  1  -3   5   7]\n",
      " [  9 -12  15  17]\n",
      " [  5  10 -15 -20]\n",
      " [  6  12 -18 -24]] \n",
      "Shape:\t(4, 4) \n",
      " Size:\t16 \n",
      " Rank:\t2 \n",
      " Square: True \n",
      " Empty: False \n",
      " Identity Matrix:\n",
      " [[1. 0. 0. 0.]\n",
      " [0. 1. 0. 0.]\n",
      " [0. 0. 1. 0.]\n",
      " [0. 0. 0. 1.]] \n",
      " Ones Matrix:\n",
      " [[1. 1. 1. 1.]\n",
      " [1. 1. 1. 1.]\n",
      " [1. 1. 1. 1.]\n",
      " [1. 1. 1. 1.]] \n",
      " Zeros Matrix:\n",
      " [[0. 0. 0. 0.]\n",
      " [0. 0. 0. 0.]\n",
      " [0. 0. 0. 0.]\n",
      " [0. 0. 0. 0.]]\n"
     ]
    }
   ],
   "source": [
    "## Test Area \n",
    "mat_desc(A)\n",
    "print('\\t')\n",
    "mat_desc(B)\n",
    "print('\\t')\n",
    "mat_desc(C)\n",
    "print('\\t')\n",
    "mat_desc(D)\n",
    "print('\\t')\n",
    "mat_desc(E)"
   ]
  },
  {
   "cell_type": "markdown",
   "metadata": {},
   "source": [
    "<h5>Task 2<i>"
   ]
  },
  {
   "cell_type": "code",
   "execution_count": 192,
   "metadata": {},
   "outputs": [],
   "source": [
    "## Function Area \n",
    "def isScalarMatrix(mat) : \n",
    "    for x in range(0,len(mat[0])) : \n",
    "        for y in range(0,len(mat[0])) : \n",
    "            if ((x != y) \n",
    "            and (mat[x][y] != 0)) : \n",
    "                return False\n",
    "    for x in range(0,len(mat[0])-1) : \n",
    "        if (mat[x][x] !=\n",
    "        mat[x + 1][x + 1]) : \n",
    "            return False\n",
    "    return True\n",
    " \n",
    "def mat_operations(matrix1, matrix2):\n",
    "    try:\n",
    "      name = \"\"\n",
    "      if(isScalarMatrix(matrix1) and isScalarMatrix(matrix2)):\n",
    "          name = \"Scalar\"\n",
    "      else:\n",
    "          name = \"Matrix\"\n",
    "      sum = matrix1 + matrix2\n",
    "      difference = matrix1 - matrix2\n",
    "      product = np.multiply(matrix1,matrix2)\n",
    "      quotient = np.divide(matrix1,matrix2)\n",
    "      print(f'Sum of {name}:\\n{sum}','\\n',f'Difference of {name}:\\n{difference}','\\n',f'Product of {name}:\\n{product}','\\n'f'Product of {name}:\\n{product}')\n",
    "    except:\n",
    "      print(\"Matrices are not viable for operations\")"
   ]
  },
  {
   "cell_type": "code",
   "execution_count": 193,
   "metadata": {},
   "outputs": [],
   "source": [
    "## Matrix Declartion\n",
    "a = np.array([[3, -2, 1, 4],[5, -4, 3, 2],[4, 2, -1, -4],[6, 2, -4, -3]])\n",
    "b = np.array([[6, 3, -1, 2],[2, 4, -3, 2],[3, -2, 1, -4],[7, 2, -6, 3]])\n",
    "c = np.array([[1, -3, 6, 8],[6, -5, 8, 3],[1, 7, -3, -9],[10, 3, -4, -7]])\n",
    "d = np.array([[2, -4, 6, 8],[10, -12, 14, 16],[3, 6, -9, -12],[4, 8, -12, -16]])\n",
    "e = np.array([[1, -3, 5, 7],[9, -12, 15, 17],[5, 10, -15, -20],[6, 12, -18, -24]])"
   ]
  },
  {
   "cell_type": "code",
   "execution_count": 194,
   "metadata": {},
   "outputs": [
    {
     "name": "stdout",
     "output_type": "stream",
     "text": [
      "Sum of Matrix:\n",
      "[[  4  -5   6  11]\n",
      " [ 14 -16  18  19]\n",
      " [  9  12 -16 -24]\n",
      " [ 12  14 -22 -27]] \n",
      " Difference of Matrix:\n",
      "[[  2   1  -4  -3]\n",
      " [ -4   8 -12 -15]\n",
      " [ -1  -8  14  16]\n",
      " [  0 -10  14  21]] \n",
      " Product of Matrix:\n",
      "[[ 3  6  5 28]\n",
      " [45 48 45 34]\n",
      " [20 20 15 80]\n",
      " [36 24 72 72]] \n",
      "Product of Matrix:\n",
      "[[ 3  6  5 28]\n",
      " [45 48 45 34]\n",
      " [20 20 15 80]\n",
      " [36 24 72 72]]\n"
     ]
    }
   ],
   "source": [
    "## Test Area \n",
    "mat_operations(a,e)"
   ]
  },
  {
   "cell_type": "code",
   "execution_count": null,
   "metadata": {},
   "outputs": [],
   "source": []
  }
 ],
 "metadata": {
  "kernelspec": {
   "display_name": "Python 3",
   "language": "python",
   "name": "python3"
  },
  "language_info": {
   "codemirror_mode": {
    "name": "ipython",
    "version": 3
   },
   "file_extension": ".py",
   "mimetype": "text/x-python",
   "name": "python",
   "nbconvert_exporter": "python",
   "pygments_lexer": "ipython3",
   "version": "3.8.3"
  }
 },
 "nbformat": 4,
 "nbformat_minor": 4
}
